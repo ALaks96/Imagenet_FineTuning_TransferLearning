{
 "cells": [
  {
   "cell_type": "markdown",
   "metadata": {},
   "source": [
    "### The objectives of the homework\n",
    "The purpose of this homework is to build an image recognition system, using transfer learning\n",
    "and fine-tuning based on pre tuned convolutional neural networks on ImageNet. (http://www.\n",
    "image-net.org/). I started with https://deeplearningsandbox.com/. With Python you\n",
    "may use keras pre trained model (see for instance https://keras.io/applications/)."
   ]
  },
  {
   "cell_type": "markdown",
   "metadata": {},
   "source": [
    "# Exercise 1 - ImageNet\n",
    "1. what is ImageNet?\n",
    "2. how many different kinds of cheese can you find in ImageNet?\n",
    "3. what is the best classifier on ImageNet and what is its error rate?\n"
   ]
  },
  {
   "cell_type": "markdown",
   "metadata": {},
   "source": [
    "### Question 1:\n",
    "\n",
    "ImageNet is a project that generates a large image database that is organized according to the WordNet hierarchy. In this project, images are hand-annotated to indicate which object can be seen on the picture. The 14,197,122 images are divided into 22,000 different categories. Each year, the project hosts a competition for the best image classification model. The Large-Scale Visual Recognition Challenge is done on a subset of ImageNet (100 categories, 1.2 mio training images, 50,000 validation images and 150,000 testing images) The database of annotations of third-party image URLs is freely available directly from ImageNet, though the actual images are not owned by ImageNet.\n"
   ]
  },
  {
   "cell_type": "markdown",
   "metadata": {},
   "source": [
    "### Question 2:\n",
    "\n",
    "If categorical cheeses such as \"blue cheese\" are subdivided into the different cheeses (e.g. \"Roquefort\", \"Gorgonzola\", etc), then we have 37 different kinds of cheese. If we do not do this subdivision, then we 26 different kinds of cheese."
   ]
  },
  {
   "cell_type": "markdown",
   "metadata": {},
   "source": [
    "### Question 3:\n",
    "?????????????????\n",
    "According to the course, the best classifier made by ML Experts is DPN131 and the best made by AutoML is AmoebaNetB.\n",
    "\n",
    "ResNet achieved an test error rate of 3,57%, surpassing human error rate (+/- 5%)"
   ]
  },
  {
   "cell_type": "markdown",
   "metadata": {},
   "source": [
    "# Exercise 2 - What are the best performances reported?\n",
    "\n",
    "Build an image recognition system for 1000 everyday object categories (ImageNet ILSVRC)\n",
    "using Keras and TensorFlow1"
   ]
  },
  {
   "cell_type": "markdown",
   "metadata": {},
   "source": [
    "1. import the relevant modules from keras and the pre trained ResNet502."
   ]
  },
  {
   "cell_type": "code",
   "execution_count": 28,
   "metadata": {},
   "outputs": [],
   "source": [
    "from keras.preprocessing import image\n",
    "from keras.applications.resnet50 import ResNet50, preprocess_input, decode_predictions\n",
    "from PIL import Image\n",
    "\n",
    "from keras.applications import InceptionV3\n",
    "from keras.models       import Model\n",
    "\n",
    "import numpy as np"
   ]
  },
  {
   "cell_type": "markdown",
   "metadata": {},
   "source": [
    "2. define ResNet50 as you model and check its architecture\n"
   ]
  },
  {
   "cell_type": "code",
   "execution_count": 11,
   "metadata": {},
   "outputs": [],
   "source": [
    "model = ResNet50(weights='imagenet')\n",
    "#model.summary()"
   ]
  },
  {
   "cell_type": "markdown",
   "metadata": {},
   "source": [
    "ResNet is a short name for Residual Network. As the name of the network indicates, the new terminology that this network introduces is residual learning.\n",
    "\n",
    "What is the need for Residual Learning?\n",
    "\n",
    "Deep convolutional neural networks have led to a series of breakthroughs for image classification. Many other visual recognition tasks have also greatly benefited from very deep models. So, over the years there is a trend to go more deeper, to solve more complex tasks and to also increase /improve the classification/recognition accuracy. But, as we go deeper; the training of neural network becomes difficult and also the accuracy starts saturating and then degrades also. Residual Learning tries to solve both these problems.\n",
    "\n",
    "What is Residual Learning?\n",
    "\n",
    "In general, in a deep convolutional neural network, several layers are stacked and are trained to the task at hand. The network learns several low/mid/high level features at the end of its layers. In residual learning, instead of trying to learn some features, we try to learn some residual. Residual can be simply understood as subtraction of feature learned from input of that layer. ResNet does this using shortcut connections (directly connecting input of nth layer to some (n+x)th layer. It has proved that training this form of networks is easier than training simple deep convolutional neural networks and also the problem of degrading accuracy is resolved.\n",
    "\n",
    "This is the fundamental concept of ResNet.\n",
    "ResNet50 is a 50 layer Residual Network. There are other variants like ResNet101 and ResNet152 also."
   ]
  },
  {
   "cell_type": "code",
   "execution_count": 18,
   "metadata": {},
   "outputs": [],
   "source": [
    "img = Image.open(\"dog.jpg\") #english sheepdog"
   ]
  },
  {
   "cell_type": "markdown",
   "metadata": {},
   "source": [
    "4. reshape the image to fit the input format of your model"
   ]
  },
  {
   "cell_type": "code",
   "execution_count": 19,
   "metadata": {},
   "outputs": [],
   "source": [
    "target_size = (224, 224)\n",
    "img = img.resize(target_size)\n",
    "x = image.img_to_array(img)\n",
    "x = np.expand_dims(x, axis=0)"
   ]
  },
  {
   "cell_type": "markdown",
   "metadata": {},
   "source": [
    "5. preprocess the input"
   ]
  },
  {
   "cell_type": "code",
   "execution_count": 20,
   "metadata": {},
   "outputs": [],
   "source": [
    "x = preprocess_input(x)"
   ]
  },
  {
   "cell_type": "markdown",
   "metadata": {},
   "source": [
    "6. get the model predictions\n"
   ]
  },
  {
   "cell_type": "code",
   "execution_count": 22,
   "metadata": {},
   "outputs": [],
   "source": [
    "preds = model.predict(x)"
   ]
  },
  {
   "cell_type": "markdown",
   "metadata": {},
   "source": [
    "7. display the top 5 recognized objects. Do you find the one of your image?"
   ]
  },
  {
   "cell_type": "code",
   "execution_count": 23,
   "metadata": {},
   "outputs": [
    {
     "data": {
      "text/plain": [
       "[('n02105641', 'Old_English_sheepdog', 0.99022573),\n",
       " ('n02093647', 'Bedlington_terrier', 0.0072471886),\n",
       " ('n02113799', 'standard_poodle', 0.001029094),\n",
       " ('n02113712', 'miniature_poodle', 0.0005585555),\n",
       " ('n02097474', 'Tibetan_terrier', 0.00020200582)]"
      ]
     },
     "execution_count": 23,
     "metadata": {},
     "output_type": "execute_result"
    }
   ],
   "source": [
    "decode_predictions(preds, top=5)[0]\n",
    "#correct with 99% certainty"
   ]
  },
  {
   "cell_type": "markdown",
   "metadata": {},
   "source": [
    "# Exercise 3 - Your turn\n",
    "\n",
    "1. based on your previous work, build a classifier with two classes (only two objects) by\n",
    "transfer learning and fine tuning.\n",
    "\n",
    "Tutorial: https://towardsdatascience.com/keras-transfer-learning-for-beginners-6c9b8b7143e \n",
    "\n",
    "a) choose two classes (cat/dog or muffin/chihuahua or parrot/guacamole or livarot/pont\n",
    "leveque or whatever/whatever else. . . )\n",
    "\n",
    "b) download some (say 10 to 50) images of each class on the web split your images into\n",
    "two sets (training and testing) and setup our data with a training directory and a\n",
    "validation directory as follows:"
   ]
  },
  {
   "cell_type": "markdown",
   "metadata": {},
   "source": [
    "c) proceed adapting the code from\n",
    "https://keras.rstudio.com/articles/applications.html"
   ]
  },
  {
   "cell_type": "code",
   "execution_count": 57,
   "metadata": {},
   "outputs": [],
   "source": [
    "import pandas as pd\n",
    "import numpy as np\n",
    "import os\n",
    "import keras\n",
    "import matplotlib.pyplot as plt\n",
    "from keras.layers import Dense,GlobalAveragePooling2D\n",
    "from keras.applications import MobileNet\n",
    "from keras.preprocessing import image\n",
    "from keras.applications.mobilenet import preprocess_input\n",
    "from keras.preprocessing.image import ImageDataGenerator\n",
    "from keras.models import Model\n",
    "from keras.optimizers import Adam\n",
    "\n",
    "from keras.applications.inception_v3 import InceptionV3"
   ]
  },
  {
   "cell_type": "markdown",
   "metadata": {},
   "source": [
    "# 1.1 MobileNet"
   ]
  },
  {
   "cell_type": "markdown",
   "metadata": {},
   "source": [
    "In a first step, we try to train our model on cats and dogs pictures by transfer learning with MobileNet."
   ]
  },
  {
   "cell_type": "markdown",
   "metadata": {},
   "source": [
    "### Step 1 - Import and build model"
   ]
  },
  {
   "cell_type": "code",
   "execution_count": 45,
   "metadata": {},
   "outputs": [],
   "source": [
    "#imports the mobilenet model and discards the last 1000 neuron layer \n",
    "#we only need 2 classes\n",
    "base_model=MobileNet(weights='imagenet',include_top=False)  \n",
    "\n",
    "x=base_model.output\n",
    "x=GlobalAveragePooling2D()(x)\n",
    "#x=Dense(1024,activation='relu')(x) #we add dense layers so that the model can learn more complex functions and classify for better results.\n",
    "#x=Dense(1024,activation='relu')(x) #dense layer 2\n",
    "#x=Dense(512,activation='relu')(x) #dense layer 3\n",
    "preds=Dense(2,activation='softmax')(x) #final layer with softmax activation"
   ]
  },
  {
   "cell_type": "code",
   "execution_count": 46,
   "metadata": {},
   "outputs": [],
   "source": [
    "#create model based on architecture above:\n",
    "model=Model(inputs=base_model.input,outputs=preds)"
   ]
  },
  {
   "cell_type": "code",
   "execution_count": 70,
   "metadata": {},
   "outputs": [],
   "source": [
    "#check architecture:\n",
    "#for i,layer in enumerate(model.layers):\n",
    "#  print(i,layer.name)"
   ]
  },
  {
   "cell_type": "code",
   "execution_count": 47,
   "metadata": {},
   "outputs": [],
   "source": [
    "#We will only be training the last Dense layers that we have made previously\n",
    "for layer in model.layers:\n",
    "    layer.trainable=False\n"
   ]
  },
  {
   "cell_type": "markdown",
   "metadata": {},
   "source": [
    "### Step 2 - loading and training data"
   ]
  },
  {
   "cell_type": "code",
   "execution_count": 53,
   "metadata": {},
   "outputs": [
    {
     "name": "stdout",
     "output_type": "stream",
     "text": [
      "Found 360 images belonging to 2 classes.\n",
      "Found 60 images belonging to 2 classes.\n"
     ]
    }
   ],
   "source": [
    "train_datagen=ImageDataGenerator(preprocessing_function=preprocess_input) #included in our dependencies\n",
    "test_datagen=ImageDataGenerator(preprocessing_function=preprocess_input)\n",
    "\n",
    "train_generator  =train_datagen.flow_from_directory('main_train',\n",
    "                                                 target_size=(224,224),\n",
    "                                                 color_mode='rgb',\n",
    "                                                 batch_size=32,\n",
    "                                                 class_mode='categorical',\n",
    "                                                 shuffle=True)\n",
    "\n",
    "validation_generator = test_datagen.flow_from_directory('main_test',\n",
    "                                                 target_size=(224,224),\n",
    "                                                 color_mode='rgb',\n",
    "                                                 batch_size=32,\n",
    "                                                 class_mode='categorical',\n",
    "                                                 shuffle=True)"
   ]
  },
  {
   "cell_type": "markdown",
   "metadata": {},
   "source": [
    "### Step 3 - train model on data set:"
   ]
  },
  {
   "cell_type": "code",
   "execution_count": 43,
   "metadata": {},
   "outputs": [
    {
     "name": "stdout",
     "output_type": "stream",
     "text": [
      "Epoch 1/10\n",
      "13/13 [==============================] - 87s 7s/step - loss: 0.7282 - acc: 0.5063\n",
      "Epoch 2/10\n",
      "13/13 [==============================] - 83s 6s/step - loss: 0.7409 - acc: 0.4617\n",
      "Epoch 3/10\n",
      "13/13 [==============================] - 85s 7s/step - loss: 0.7356 - acc: 0.4784\n",
      "Epoch 4/10\n",
      "13/13 [==============================] - 82s 6s/step - loss: 0.7263 - acc: 0.4887\n",
      "Epoch 5/10\n",
      "13/13 [==============================] - 83s 6s/step - loss: 0.7491 - acc: 0.4519\n",
      "Epoch 6/10\n",
      "13/13 [==============================] - 79s 6s/step - loss: 0.7305 - acc: 0.4687\n",
      "Epoch 7/10\n",
      "13/13 [==============================] - 81s 6s/step - loss: 0.7291 - acc: 0.4944\n",
      "Epoch 8/10\n",
      "13/13 [==============================] - 81s 6s/step - loss: 0.7365 - acc: 0.4705\n",
      "Epoch 9/10\n",
      "13/13 [==============================] - 83s 6s/step - loss: 0.7334 - acc: 0.4784\n",
      "Epoch 10/10\n",
      "13/13 [==============================] - 80s 6s/step - loss: 0.7469 - acc: 0.4409\n"
     ]
    },
    {
     "data": {
      "text/plain": [
       "<keras.callbacks.History at 0x22fc36686a0>"
      ]
     },
     "execution_count": 43,
     "metadata": {},
     "output_type": "execute_result"
    }
   ],
   "source": [
    "model.compile(optimizer='Adam',loss='categorical_crossentropy',metrics=['accuracy'])\n",
    "# Adam optimizer\n",
    "# loss function will be categorical cross entropy\n",
    "# evaluation metric will be accuracy\n",
    "\n",
    "step_size_train=train_generator.n//train_generator.batch_size\n",
    "model_MobileNet = tmodel.fit_generator(generator=train_generator,\n",
    "                   steps_per_epoch=step_size_train,\n",
    "                   epochs=10)"
   ]
  },
  {
   "cell_type": "code",
   "execution_count": 44,
   "metadata": {},
   "outputs": [
    {
     "ename": "NameError",
     "evalue": "name 'history' is not defined",
     "output_type": "error",
     "traceback": [
      "\u001b[1;31m---------------------------------------------------------------------------\u001b[0m",
      "\u001b[1;31mNameError\u001b[0m                                 Traceback (most recent call last)",
      "\u001b[1;32m<ipython-input-44-5c2b52327890>\u001b[0m in \u001b[0;36m<module>\u001b[1;34m\u001b[0m\n\u001b[0;32m      2\u001b[0m \u001b[0mplt\u001b[0m\u001b[1;33m.\u001b[0m\u001b[0mfigure\u001b[0m\u001b[1;33m(\u001b[0m\u001b[0mfigsize\u001b[0m\u001b[1;33m=\u001b[0m\u001b[1;33m(\u001b[0m\u001b[1;36m20\u001b[0m\u001b[1;33m,\u001b[0m \u001b[1;36m6\u001b[0m\u001b[1;33m)\u001b[0m\u001b[1;33m)\u001b[0m\u001b[1;33m\u001b[0m\u001b[1;33m\u001b[0m\u001b[0m\n\u001b[0;32m      3\u001b[0m \u001b[0mplt\u001b[0m\u001b[1;33m.\u001b[0m\u001b[0msubplot\u001b[0m\u001b[1;33m(\u001b[0m\u001b[1;36m1\u001b[0m\u001b[1;33m,\u001b[0m \u001b[1;36m2\u001b[0m\u001b[1;33m,\u001b[0m \u001b[1;36m1\u001b[0m\u001b[1;33m)\u001b[0m\u001b[1;33m\u001b[0m\u001b[1;33m\u001b[0m\u001b[0m\n\u001b[1;32m----> 4\u001b[1;33m \u001b[0mplt\u001b[0m\u001b[1;33m.\u001b[0m\u001b[0mplot\u001b[0m\u001b[1;33m(\u001b[0m\u001b[0mhistory\u001b[0m\u001b[1;33m.\u001b[0m\u001b[0mhistory\u001b[0m\u001b[1;33m[\u001b[0m\u001b[1;34m'acc'\u001b[0m\u001b[1;33m]\u001b[0m\u001b[1;33m)\u001b[0m\u001b[1;33m\u001b[0m\u001b[1;33m\u001b[0m\u001b[0m\n\u001b[0m\u001b[0;32m      5\u001b[0m \u001b[0mplt\u001b[0m\u001b[1;33m.\u001b[0m\u001b[0mplot\u001b[0m\u001b[1;33m(\u001b[0m\u001b[0mhistory\u001b[0m\u001b[1;33m.\u001b[0m\u001b[0mhistory\u001b[0m\u001b[1;33m[\u001b[0m\u001b[1;34m'val_acc'\u001b[0m\u001b[1;33m]\u001b[0m\u001b[1;33m)\u001b[0m\u001b[1;33m\u001b[0m\u001b[1;33m\u001b[0m\u001b[0m\n\u001b[0;32m      6\u001b[0m \u001b[0mplt\u001b[0m\u001b[1;33m.\u001b[0m\u001b[0mtitle\u001b[0m\u001b[1;33m(\u001b[0m\u001b[1;34m'model accuracy for model 1'\u001b[0m\u001b[1;33m)\u001b[0m\u001b[1;33m\u001b[0m\u001b[1;33m\u001b[0m\u001b[0m\n",
      "\u001b[1;31mNameError\u001b[0m: name 'history' is not defined"
     ]
    },
    {
     "data": {
      "image/png": "[encoded data removed]",
      "text/plain": [
       "<Figure size 1440x432 with 1 Axes>"
      ]
     },
     "metadata": {
      "needs_background": "light"
     },
     "output_type": "display_data"
    }
   ],
   "source": [
    "# summarize history for accuracy\n",
    "plt.figure(figsize=(20, 6))\n",
    "plt.plot(model_MobileNet.model_MobileNet['acc'])\n",
    "plt.plot(model_MobileNet.model_MobileNet['val_acc'])\n",
    "plt.title('model accuracy for MobileNet transfer learning')\n",
    "plt.ylabel('accuracy')\n",
    "plt.xlabel('epoch')\n",
    "plt.legend(['train', 'test'], loc='upper left')\n",
    "\n",
    "#for new image:\n",
    "#model.predict(new_image) "
   ]
  },
  {
   "cell_type": "code",
   "execution_count": null,
   "metadata": {},
   "outputs": [],
   "source": []
  },
  {
   "cell_type": "markdown",
   "metadata": {},
   "source": [
    "# 1.2. InceptionV3"
   ]
  },
  {
   "cell_type": "markdown",
   "metadata": {},
   "source": [
    "In this section, we are trying to do the same as above, but with the famous InceptionV3. Lets see if we can improve the accurcy by just changing the NN model. After this, we are going to fine tune the more efficient model of both, and see if we can further improve the accuracy. "
   ]
  },
  {
   "cell_type": "markdown",
   "metadata": {},
   "source": [
    "### Step 1 - Import and build model"
   ]
  },
  {
   "cell_type": "code",
   "execution_count": 101,
   "metadata": {
    "scrolled": true
   },
   "outputs": [],
   "source": [
    "# create the base pre-trained model\n",
    "base_model2 = InceptionV3(weights='imagenet', include_top=False)\n"
   ]
  },
  {
   "cell_type": "code",
   "execution_count": 102,
   "metadata": {},
   "outputs": [],
   "source": [
    "#add layers:\n",
    "x=base_model2.output\n",
    "x=GlobalAveragePooling2D()(x)\n",
    "x=Dense(1024,activation='relu')(x) #we add dense layers so that the model can learn more complex functions and classify for better results.\n",
    "x=Dense(1024,activation='relu')(x) #dense layer 2\n",
    "x=Dense(512,activation='relu')(x) #dense layer 3\n",
    "preds=Dense(2,activation='softmax')(x) #final layer with softmax activation"
   ]
  },
  {
   "cell_type": "code",
   "execution_count": 103,
   "metadata": {},
   "outputs": [],
   "source": [
    "#create model based on architecture above:\n",
    "model=Model(inputs=base_model2.input,outputs=preds)"
   ]
  },
  {
   "cell_type": "code",
   "execution_count": 104,
   "metadata": {},
   "outputs": [
    {
     "name": "stdout",
     "output_type": "stream",
     "text": [
      "0 input_11\n",
      "1 conv2d_377\n",
      "2 batch_normalization_377\n",
      "3 activation_475\n",
      "4 conv2d_378\n",
      "5 batch_normalization_378\n",
      "6 activation_476\n",
      "7 conv2d_379\n",
      "8 batch_normalization_379\n",
      "9 activation_477\n",
      "10 max_pooling2d_19\n",
      "11 conv2d_380\n",
      "12 batch_normalization_380\n",
      "13 activation_478\n",
      "14 conv2d_381\n",
      "15 batch_normalization_381\n",
      "16 activation_479\n",
      "17 max_pooling2d_20\n",
      "18 conv2d_385\n",
      "19 batch_normalization_385\n",
      "20 activation_483\n",
      "21 conv2d_383\n",
      "22 conv2d_386\n",
      "23 batch_normalization_383\n",
      "24 batch_normalization_386\n",
      "25 activation_481\n",
      "26 activation_484\n",
      "27 average_pooling2d_37\n",
      "28 conv2d_382\n",
      "29 conv2d_384\n",
      "30 conv2d_387\n",
      "31 conv2d_388\n",
      "32 batch_normalization_382\n",
      "33 batch_normalization_384\n",
      "34 batch_normalization_387\n",
      "35 batch_normalization_388\n",
      "36 activation_480\n",
      "37 activation_482\n",
      "38 activation_485\n",
      "39 activation_486\n",
      "40 mixed0\n",
      "41 conv2d_392\n",
      "42 batch_normalization_392\n",
      "43 activation_490\n",
      "44 conv2d_390\n",
      "45 conv2d_393\n",
      "46 batch_normalization_390\n",
      "47 batch_normalization_393\n",
      "48 activation_488\n",
      "49 activation_491\n",
      "50 average_pooling2d_38\n",
      "51 conv2d_389\n",
      "52 conv2d_391\n",
      "53 conv2d_394\n",
      "54 conv2d_395\n",
      "55 batch_normalization_389\n",
      "56 batch_normalization_391\n",
      "57 batch_normalization_394\n",
      "58 batch_normalization_395\n",
      "59 activation_487\n",
      "60 activation_489\n",
      "61 activation_492\n",
      "62 activation_493\n",
      "63 mixed1\n",
      "64 conv2d_399\n",
      "65 batch_normalization_399\n",
      "66 activation_497\n",
      "67 conv2d_397\n",
      "68 conv2d_400\n",
      "69 batch_normalization_397\n",
      "70 batch_normalization_400\n",
      "71 activation_495\n",
      "72 activation_498\n",
      "73 average_pooling2d_39\n",
      "74 conv2d_396\n",
      "75 conv2d_398\n",
      "76 conv2d_401\n",
      "77 conv2d_402\n",
      "78 batch_normalization_396\n",
      "79 batch_normalization_398\n",
      "80 batch_normalization_401\n",
      "81 batch_normalization_402\n",
      "82 activation_494\n",
      "83 activation_496\n",
      "84 activation_499\n",
      "85 activation_500\n",
      "86 mixed2\n",
      "87 conv2d_404\n",
      "88 batch_normalization_404\n",
      "89 activation_502\n",
      "90 conv2d_405\n",
      "91 batch_normalization_405\n",
      "92 activation_503\n",
      "93 conv2d_403\n",
      "94 conv2d_406\n",
      "95 batch_normalization_403\n",
      "96 batch_normalization_406\n",
      "97 activation_501\n",
      "98 activation_504\n",
      "99 max_pooling2d_21\n",
      "100 mixed3\n",
      "101 conv2d_411\n",
      "102 batch_normalization_411\n",
      "103 activation_509\n",
      "104 conv2d_412\n",
      "105 batch_normalization_412\n",
      "106 activation_510\n",
      "107 conv2d_408\n",
      "108 conv2d_413\n",
      "109 batch_normalization_408\n",
      "110 batch_normalization_413\n",
      "111 activation_506\n",
      "112 activation_511\n",
      "113 conv2d_409\n",
      "114 conv2d_414\n",
      "115 batch_normalization_409\n",
      "116 batch_normalization_414\n",
      "117 activation_507\n",
      "118 activation_512\n",
      "119 average_pooling2d_40\n",
      "120 conv2d_407\n",
      "121 conv2d_410\n",
      "122 conv2d_415\n",
      "123 conv2d_416\n",
      "124 batch_normalization_407\n",
      "125 batch_normalization_410\n",
      "126 batch_normalization_415\n",
      "127 batch_normalization_416\n",
      "128 activation_505\n",
      "129 activation_508\n",
      "130 activation_513\n",
      "131 activation_514\n",
      "132 mixed4\n",
      "133 conv2d_421\n",
      "134 batch_normalization_421\n",
      "135 activation_519\n",
      "136 conv2d_422\n",
      "137 batch_normalization_422\n",
      "138 activation_520\n",
      "139 conv2d_418\n",
      "140 conv2d_423\n",
      "141 batch_normalization_418\n",
      "142 batch_normalization_423\n",
      "143 activation_516\n",
      "144 activation_521\n",
      "145 conv2d_419\n",
      "146 conv2d_424\n",
      "147 batch_normalization_419\n",
      "148 batch_normalization_424\n",
      "149 activation_517\n",
      "150 activation_522\n",
      "151 average_pooling2d_41\n",
      "152 conv2d_417\n",
      "153 conv2d_420\n",
      "154 conv2d_425\n",
      "155 conv2d_426\n",
      "156 batch_normalization_417\n",
      "157 batch_normalization_420\n",
      "158 batch_normalization_425\n",
      "159 batch_normalization_426\n",
      "160 activation_515\n",
      "161 activation_518\n",
      "162 activation_523\n",
      "163 activation_524\n",
      "164 mixed5\n",
      "165 conv2d_431\n",
      "166 batch_normalization_431\n",
      "167 activation_529\n",
      "168 conv2d_432\n",
      "169 batch_normalization_432\n",
      "170 activation_530\n",
      "171 conv2d_428\n",
      "172 conv2d_433\n",
      "173 batch_normalization_428\n",
      "174 batch_normalization_433\n",
      "175 activation_526\n",
      "176 activation_531\n",
      "177 conv2d_429\n",
      "178 conv2d_434\n",
      "179 batch_normalization_429\n",
      "180 batch_normalization_434\n",
      "181 activation_527\n",
      "182 activation_532\n",
      "183 average_pooling2d_42\n",
      "184 conv2d_427\n",
      "185 conv2d_430\n",
      "186 conv2d_435\n",
      "187 conv2d_436\n",
      "188 batch_normalization_427\n",
      "189 batch_normalization_430\n",
      "190 batch_normalization_435\n",
      "191 batch_normalization_436\n",
      "192 activation_525\n",
      "193 activation_528\n",
      "194 activation_533\n",
      "195 activation_534\n",
      "196 mixed6\n",
      "197 conv2d_441\n",
      "198 batch_normalization_441\n",
      "199 activation_539\n",
      "200 conv2d_442\n",
      "201 batch_normalization_442\n",
      "202 activation_540\n",
      "203 conv2d_438\n",
      "204 conv2d_443\n",
      "205 batch_normalization_438\n",
      "206 batch_normalization_443\n",
      "207 activation_536\n",
      "208 activation_541\n",
      "209 conv2d_439\n",
      "210 conv2d_444\n",
      "211 batch_normalization_439\n",
      "212 batch_normalization_444\n",
      "213 activation_537\n",
      "214 activation_542\n",
      "215 average_pooling2d_43\n",
      "216 conv2d_437\n",
      "217 conv2d_440\n",
      "218 conv2d_445\n",
      "219 conv2d_446\n",
      "220 batch_normalization_437\n",
      "221 batch_normalization_440\n",
      "222 batch_normalization_445\n",
      "223 batch_normalization_446\n",
      "224 activation_535\n",
      "225 activation_538\n",
      "226 activation_543\n",
      "227 activation_544\n",
      "228 mixed7\n",
      "229 conv2d_449\n",
      "230 batch_normalization_449\n",
      "231 activation_547\n",
      "232 conv2d_450\n",
      "233 batch_normalization_450\n",
      "234 activation_548\n",
      "235 conv2d_447\n",
      "236 conv2d_451\n",
      "237 batch_normalization_447\n",
      "238 batch_normalization_451\n",
      "239 activation_545\n",
      "240 activation_549\n",
      "241 conv2d_448\n",
      "242 conv2d_452\n",
      "243 batch_normalization_448\n",
      "244 batch_normalization_452\n",
      "245 activation_546\n",
      "246 activation_550\n",
      "247 max_pooling2d_22\n",
      "248 mixed8\n",
      "249 conv2d_457\n",
      "250 batch_normalization_457\n",
      "251 activation_555\n",
      "252 conv2d_454\n",
      "253 conv2d_458\n",
      "254 batch_normalization_454\n",
      "255 batch_normalization_458\n",
      "256 activation_552\n",
      "257 activation_556\n",
      "258 conv2d_455\n",
      "259 conv2d_456\n",
      "260 conv2d_459\n",
      "261 conv2d_460\n",
      "262 average_pooling2d_44\n",
      "263 conv2d_453\n",
      "264 batch_normalization_455\n",
      "265 batch_normalization_456\n",
      "266 batch_normalization_459\n",
      "267 batch_normalization_460\n",
      "268 conv2d_461\n",
      "269 batch_normalization_453\n",
      "270 activation_553\n",
      "271 activation_554\n",
      "272 activation_557\n",
      "273 activation_558\n",
      "274 batch_normalization_461\n",
      "275 activation_551\n",
      "276 mixed9_0\n",
      "277 concatenate_9\n",
      "278 activation_559\n",
      "279 mixed9\n",
      "280 conv2d_466\n",
      "281 batch_normalization_466\n",
      "282 activation_564\n",
      "283 conv2d_463\n",
      "284 conv2d_467\n",
      "285 batch_normalization_463\n",
      "286 batch_normalization_467\n",
      "287 activation_561\n",
      "288 activation_565\n",
      "289 conv2d_464\n",
      "290 conv2d_465\n",
      "291 conv2d_468\n",
      "292 conv2d_469\n",
      "293 average_pooling2d_45\n",
      "294 conv2d_462\n",
      "295 batch_normalization_464\n",
      "296 batch_normalization_465\n",
      "297 batch_normalization_468\n",
      "298 batch_normalization_469\n",
      "299 conv2d_470\n",
      "300 batch_normalization_462\n",
      "301 activation_562\n",
      "302 activation_563\n",
      "303 activation_566\n",
      "304 activation_567\n",
      "305 batch_normalization_470\n",
      "306 activation_560\n",
      "307 mixed9_1\n",
      "308 concatenate_10\n",
      "309 activation_568\n",
      "310 mixed10\n",
      "311 global_average_pooling2d_8\n",
      "312 dense_24\n",
      "313 dense_25\n",
      "314 dense_26\n",
      "315 dense_27\n"
     ]
    }
   ],
   "source": [
    "#check architecture:\n",
    "for i,layer in enumerate(model.layers):\n",
    "  print(i,layer.name)"
   ]
  },
  {
   "cell_type": "code",
   "execution_count": 105,
   "metadata": {},
   "outputs": [],
   "source": [
    "#We will only be training the last Dense layers that we have made previously\n",
    "for layer in model.layers:\n",
    "    layer.trainable=False"
   ]
  },
  {
   "cell_type": "markdown",
   "metadata": {},
   "source": [
    "### Step 2 - loading and training data"
   ]
  },
  {
   "cell_type": "code",
   "execution_count": 112,
   "metadata": {},
   "outputs": [
    {
     "name": "stdout",
     "output_type": "stream",
     "text": [
      "Found 360 images belonging to 2 classes.\n",
      "Found 60 images belonging to 2 classes.\n"
     ]
    }
   ],
   "source": [
    "train_datagen=ImageDataGenerator(rescale=1./255,\n",
    "        shear_range=0.2,\n",
    "        zoom_range=0.2,\n",
    "        horizontal_flip=True) #included in our dependencies\n",
    "test_datagen=ImageDataGenerator(rescale=1. / 255)\n",
    "#eventually turn off random zoom, shear and flip\n",
    "\n",
    "train_generator  =train_datagen.flow_from_directory('main_train',\n",
    "                                                 target_size=(299,299),\n",
    "                                                 color_mode='rgb',\n",
    "                                                 batch_size=32,\n",
    "                                                 class_mode='categorical',\n",
    "                                                 shuffle=False)\n",
    "\n",
    "validation_generator = test_datagen.flow_from_directory('main_test',\n",
    "                                                 target_size=(299,299),\n",
    "                                                 color_mode='rgb',\n",
    "                                                 batch_size=32,\n",
    "                                                 class_mode='categorical',\n",
    "                                                 shuffle=False)"
   ]
  },
  {
   "cell_type": "markdown",
   "metadata": {},
   "source": [
    "### Step 3 - train model on data set:"
   ]
  },
  {
   "cell_type": "code",
   "execution_count": 113,
   "metadata": {},
   "outputs": [],
   "source": [
    "#set parameters:\n",
    "img_width, img_height = 299, 299\n",
    "nb_train_samples = 360\n",
    "nb_validation_samples = 60\n",
    "top_epochs = 5\n",
    "batch_size = 10\n",
    "train_dir = 'main_train'\n",
    "val_dir = 'main_test'"
   ]
  },
  {
   "cell_type": "code",
   "execution_count": 114,
   "metadata": {
    "scrolled": true
   },
   "outputs": [
    {
     "name": "stdout",
     "output_type": "stream",
     "text": [
      "Epoch 1/5\n",
      "36/36 [==============================] - 641s 18s/step - loss: 0.7189 - acc: 0.4801 - val_loss: 0.7301 - val_acc: 0.5167\n",
      "Epoch 2/5\n",
      "36/36 [==============================] - 596s 17s/step - loss: 0.7164 - acc: 0.5034 - val_loss: 0.7301 - val_acc: 0.5167\n",
      "Epoch 3/5\n",
      "36/36 [==============================] - 584s 16s/step - loss: 0.7148 - acc: 0.4939 - val_loss: 0.7301 - val_acc: 0.5167\n",
      "Epoch 4/5\n",
      "36/36 [==============================] - 597s 17s/step - loss: 0.7157 - acc: 0.4896 - val_loss: 0.7301 - val_acc: 0.5167\n",
      "Epoch 5/5\n",
      "36/36 [==============================] - 609s 17s/step - loss: 0.7235 - acc: 0.4767 - val_loss: 0.7301 - val_acc: 0.5167\n"
     ]
    }
   ],
   "source": [
    "model.compile(optimizer='rmsprop',loss='categorical_crossentropy',metrics=['accuracy'])\n",
    "# Adam optimizer\n",
    "# loss function will be categorical cross entropy\n",
    "# evaluation metric will be accuracy\n",
    "\n",
    "step_size_train=train_generator.n//train_generator.batch_size\n",
    "# train the model on the new data for a few epochs\n",
    "model_InceptionV3 = model.fit_generator(\n",
    "train_generator,\n",
    "    steps_per_epoch = nb_train_samples / batch_size,\n",
    "    epochs = top_epochs,\n",
    "    validation_data = validation_generator,\n",
    "    validation_steps = nb_validation_samples / batch_size\n",
    ")"
   ]
  },
  {
   "cell_type": "code",
   "execution_count": 115,
   "metadata": {},
   "outputs": [
    {
     "data": {
      "text/plain": [
       "<matplotlib.legend.Legend at 0x22f82b99f28>"
      ]
     },
     "execution_count": 115,
     "metadata": {},
     "output_type": "execute_result"
    },
    {
     "data": {
      "image/png": "[encoded data removed]",
      "text/plain": [
       "<Figure size 1440x432 with 1 Axes>"
      ]
     },
     "metadata": {
      "needs_background": "light"
     },
     "output_type": "display_data"
    }
   ],
   "source": [
    "# summarize history for accuracy\n",
    "plt.figure(figsize=(20, 6))\n",
    "plt.plot(model_InceptionV3.history['acc'])\n",
    "plt.plot(model_InceptionV3.history['val_acc'])\n",
    "plt.title('model accuracy for MobileNet transfer learning')\n",
    "plt.ylabel('accuracy')\n",
    "plt.xlabel('epoch')\n",
    "plt.legend(['train', 'test'], loc='upper left')\n"
   ]
  },
  {
   "cell_type": "markdown",
   "metadata": {},
   "source": [
    "# 2. Fine-Tuning:"
   ]
  },
  {
   "cell_type": "code",
   "execution_count": 116,
   "metadata": {},
   "outputs": [],
   "source": [
    "# we chose to train the top 2 inception blocks, i.e. we will freeze\n",
    "# the first 249 layers and unfreeze the rest:\n",
    "for layer in model.layers[:249]:\n",
    "   layer.trainable = False\n",
    "for layer in model.layers[249:]:\n",
    "   layer.trainable = True"
   ]
  },
  {
   "cell_type": "code",
   "execution_count": 117,
   "metadata": {},
   "outputs": [],
   "source": [
    "# we need to recompile the model for these modifications to take effect\n",
    "# we use SGD with a low learning rate\n",
    "from keras.optimizers import SGD\n",
    "model.compile(optimizer=SGD(lr=0.0001, momentum=0.9), loss='categorical_crossentropy', metrics= ['accuracy'])"
   ]
  },
  {
   "cell_type": "code",
   "execution_count": 118,
   "metadata": {},
   "outputs": [
    {
     "name": "stdout",
     "output_type": "stream",
     "text": [
      "Epoch 1/5\n",
      "36/36 [==============================] - 824s 23s/step - loss: 0.6957 - acc: 0.5112 - val_loss: 0.6629 - val_acc: 0.5667\n",
      "Epoch 2/5\n",
      "36/36 [==============================] - 843s 23s/step - loss: 0.6356 - acc: 0.6084 - val_loss: 0.6017 - val_acc: 0.6667\n",
      "Epoch 3/5\n",
      "36/36 [==============================] - 733s 20s/step - loss: 0.5781 - acc: 0.7824 - val_loss: 0.5423 - val_acc: 0.8333\n",
      "Epoch 4/5\n",
      "36/36 [==============================] - 730s 20s/step - loss: 0.5237 - acc: 0.9065 - val_loss: 0.4834 - val_acc: 1.0000\n",
      "Epoch 5/5\n",
      "36/36 [==============================] - 741s 21s/step - loss: 0.4758 - acc: 0.9325 - val_loss: 0.4257 - val_acc: 1.0000\n"
     ]
    }
   ],
   "source": [
    "# train the model on the new data for a few epochs\n",
    "model_InceptionV3_fine_tuned = model.fit_generator(\n",
    "train_generator,\n",
    "    steps_per_epoch = nb_train_samples / batch_size,\n",
    "    epochs = top_epochs,\n",
    "    validation_data = validation_generator,\n",
    "    validation_steps = nb_validation_samples / batch_size\n",
    ")"
   ]
  },
  {
   "cell_type": "code",
   "execution_count": 119,
   "metadata": {},
   "outputs": [
    {
     "data": {
      "text/plain": [
       "<matplotlib.legend.Legend at 0x2303f42beb8>"
      ]
     },
     "execution_count": 119,
     "metadata": {},
     "output_type": "execute_result"
    },
    {
     "data": {
      "image/png": "[encoded data removed]",
      "text/plain": [
       "<Figure size 1440x432 with 1 Axes>"
      ]
     },
     "metadata": {
      "needs_background": "light"
     },
     "output_type": "display_data"
    }
   ],
   "source": [
    "# summarize history for accuracy\n",
    "plt.figure(figsize=(20, 6))\n",
    "plt.plot(model_InceptionV3_fine_tuned.history['acc'])\n",
    "plt.plot(model_InceptionV3_fine_tuned.history['val_acc'])\n",
    "plt.title('model accuracy for MobileNet transfer learning')\n",
    "plt.ylabel('accuracy')\n",
    "plt.xlabel('epoch')\n",
    "plt.legend(['train', 'test'], loc='upper left')\n"
   ]
  },
  {
   "cell_type": "code",
   "execution_count": null,
   "metadata": {},
   "outputs": [],
   "source": [
    "#idea: ive good and bad pic of dog/cat and predict!"
   ]
  },
  {
   "cell_type": "markdown",
   "metadata": {},
   "source": [
    "2. Is it better to do transfer learning and fine tuning or both?"
   ]
  },
  {
   "cell_type": "markdown",
   "metadata": {},
   "source": [
    "Transfer learning:\n",
    "    \n",
    "Transfer learning is a machine learning method where a model developed for a task is reused as the starting point for a model on a second task. Transfer learning is a machine learning technique where a model trained on one task is re-purposed on a second related task. Transfer learning is an optimization that allows rapid progress or improved performance when modeling the second task. When we consider classifying images, we often opt to build our model from scratch for the best fit, we say. This is an option but building a custom deep learning model demands extensive computation resources and lots of training data. Moreover, there already exists models that perform pretty well in classifying images from various categories. You have probably heard of ImageNet, and its Large Visual Recognition Challenge. In this Computer Vision challenge, models try to classify a huge collection of images into 1000 classes, like “Zebra”, “Dalmatian”, and “Dishwasher”. Inception V3 is the model Google Brain Team has built for the same. Needless to say, the model performed very well. Transfer learning -  It may not be as efficient as a full training from scratch, but is surprisingly effective for many applications. It allows model creation with significantly reduced training data and time by modifying existing rich deep learning models. The reason our final layer retraining can work on new classes is that it turns out the kind of information needed to distinguish between all the 1000 classes in ImageNet is often also useful to distinguish between new kinds of objects.\n",
    "\n",
    "\n",
    "Fine-Tuning:\n",
    "\n",
    "Fine tuning on the other hand is just about making some fine adjustments to further improve performance. For example, during transfer learning, you can unfreeze the pre-trained model and let it adapt more to the task at hand."
   ]
  }
 ],
 "metadata": {
  "kernelspec": {
   "display_name": "Python 3",
   "language": "python",
   "name": "python3"
  },
  "language_info": {
   "codemirror_mode": {
    "name": "ipython",
    "version": 3
   },
   "file_extension": ".py",
   "mimetype": "text/x-python",
   "name": "python",
   "nbconvert_exporter": "python",
   "pygments_lexer": "ipython3",
   "version": "3.6.8"
  }
 },
 "nbformat": 4,
 "nbformat_minor": 2
}
